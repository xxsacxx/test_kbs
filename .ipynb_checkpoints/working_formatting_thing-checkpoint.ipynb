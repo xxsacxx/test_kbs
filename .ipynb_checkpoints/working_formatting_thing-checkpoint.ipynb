{
 "cells": [
  {
   "cell_type": "markdown",
   "metadata": {},
   "source": [
    "---\n",
    "title: Sample\n",
    "authors:\n",
    "- Sachin Tripathi\n",
    "tags:\n",
    "- Python\n",
    "- Physics\n",
    "- Scientific Computing\n",
    "created_at: 2023-01-19\n",
    "updated_at: 2023-01-19\n",
    "\n",
    "tldr: Jupyter-Notebook for data formatting\n",
    "\n",
    "---"
   ]
  },
  {
   "cell_type": "code",
   "execution_count": 1,
   "metadata": {},
   "outputs": [
    {
     "ename": "TypeError",
     "evalue": "required field \"type_ignores\" missing from Module",
     "output_type": "error",
     "traceback": [
      "\u001b[0;31m---------------------------------------------------------------------------\u001b[0m",
      "\u001b[0;31mTypeError\u001b[0m                                 Traceback (most recent call last)",
      "\u001b[0;32m/usr/lib/python3.8/codeop.py\u001b[0m in \u001b[0;36m__call__\u001b[0;34m(self, source, filename, symbol)\u001b[0m\n\u001b[1;32m    141\u001b[0m \u001b[0;34m\u001b[0m\u001b[0m\n\u001b[1;32m    142\u001b[0m     \u001b[0;32mdef\u001b[0m \u001b[0m__call__\u001b[0m\u001b[0;34m(\u001b[0m\u001b[0mself\u001b[0m\u001b[0;34m,\u001b[0m \u001b[0msource\u001b[0m\u001b[0;34m,\u001b[0m \u001b[0mfilename\u001b[0m\u001b[0;34m,\u001b[0m \u001b[0msymbol\u001b[0m\u001b[0;34m)\u001b[0m\u001b[0;34m:\u001b[0m\u001b[0;34m\u001b[0m\u001b[0;34m\u001b[0m\u001b[0m\n\u001b[0;32m--> 143\u001b[0;31m         \u001b[0mcodeob\u001b[0m \u001b[0;34m=\u001b[0m \u001b[0mcompile\u001b[0m\u001b[0;34m(\u001b[0m\u001b[0msource\u001b[0m\u001b[0;34m,\u001b[0m \u001b[0mfilename\u001b[0m\u001b[0;34m,\u001b[0m \u001b[0msymbol\u001b[0m\u001b[0;34m,\u001b[0m \u001b[0mself\u001b[0m\u001b[0;34m.\u001b[0m\u001b[0mflags\u001b[0m\u001b[0;34m,\u001b[0m \u001b[0;36m1\u001b[0m\u001b[0;34m)\u001b[0m\u001b[0;34m\u001b[0m\u001b[0;34m\u001b[0m\u001b[0m\n\u001b[0m\u001b[1;32m    144\u001b[0m         \u001b[0;32mfor\u001b[0m \u001b[0mfeature\u001b[0m \u001b[0;32min\u001b[0m \u001b[0m_features\u001b[0m\u001b[0;34m:\u001b[0m\u001b[0;34m\u001b[0m\u001b[0;34m\u001b[0m\u001b[0m\n\u001b[1;32m    145\u001b[0m             \u001b[0;32mif\u001b[0m \u001b[0mcodeob\u001b[0m\u001b[0;34m.\u001b[0m\u001b[0mco_flags\u001b[0m \u001b[0;34m&\u001b[0m \u001b[0mfeature\u001b[0m\u001b[0;34m.\u001b[0m\u001b[0mcompiler_flag\u001b[0m\u001b[0;34m:\u001b[0m\u001b[0;34m\u001b[0m\u001b[0;34m\u001b[0m\u001b[0m\n",
      "\u001b[0;31mTypeError\u001b[0m: required field \"type_ignores\" missing from Module"
     ]
    }
   ],
   "source": [
    "##common.py\n",
    "import datetime as dt\n",
    "from functools import wraps\n",
    "\n",
    "import pandas as pd\n",
    "import altair as alt\n",
    "\n",
    "def log_step(func):\n",
    "    @wraps(func)\n",
    "    def wrapper(*args, **kwargs):\n",
    "        tic = dt.datetime.now()\n",
    "        result = func(*args, **kwargs)\n",
    "        time_taken = str(dt.datetime.now() - tic)\n",
    "        print(f\"just ran step {func.__name__} shape={result.shape} took {time_taken}s\")\n",
    "        return result\n",
    "    return wrapper\n",
    "\n",
    "@log_step\n",
    "def start_pipeline(dataf):\n",
    "    return dataf.copy()\n",
    "\n",
    "@log_step\n",
    "def set_dtypes(dataf):\n",
    "    return (dataf\n",
    "            .assign(date=lambda d: pd.to_datetime(d['date']))\n",
    "            .sort_values(['currency_code', 'date']))\n",
    "\n",
    "@log_step\n",
    "def add_inflation_features(dataf):\n",
    "    return (dataf\n",
    "            .assign(local_inflation=lambda d: d.groupby('name')['local_price'].diff()/d['local_price'])\n",
    "            .assign(dollar_inflation=lambda d: d.groupby('name')['dollar_price'].diff()/d['dollar_price']))\n",
    "\n",
    "@log_step\n",
    "def remove_outliers(dataf, min_row_country=32):\n",
    "    countries = (dataf\n",
    "                .groupby('currency_code')\n",
    "                .agg(n=('name', 'count'))\n",
    "                .loc[lambda d: d['n'] >= min_row_country]\n",
    "                .index)\n",
    "    return (dataf\n",
    "            .loc[lambda d: d['currency_code'].isin(countries)]\n",
    "            .loc[lambda d: d['local_inflation'] > -20])\n",
    "\n",
    "def plot_bigmac(dataf):\n",
    "    return (alt.Chart(dataf)\n",
    "      .mark_point()\n",
    "      .encode(x='local_inflation',\n",
    "              y='dollar_inflation',\n",
    "              color=alt.Color('currency_code'),\n",
    "              tooltip=[\"currency_code\", \"local_inflation\", \"dollar_inflation\"])\n",
    "      .properties(width=600, height=150)\n",
    "      .interactive())\n"
   ]
  },
  {
   "cell_type": "code",
   "execution_count": null,
   "metadata": {},
   "outputs": [],
   "source": [
    "# from common import start_pipeline, set_dtypes, add_inflation_features, remove_outliers, plot_bigmac\n",
    "\n",
    "df = pd.read_csv('https://calmcode.io/datasets/bigmac.csv')\n",
    "\n",
    "clean_df = (df\n",
    "  .pipe(start_pipeline)\n",
    "  .pipe(set_dtypes)\n",
    "  .pipe(add_inflation_features)\n",
    "  .pipe(remove_outliers, min_row_country=30))\n",
    "\n",
    "clean_df.pipe(plot_bigmac)\n"
   ]
  }
 ],
 "metadata": {
  "kernelspec": {
   "display_name": "Python 3",
   "language": "python",
   "name": "python3"
  },
  "language_info": {
   "codemirror_mode": {
    "name": "ipython",
    "version": 3
   },
   "file_extension": ".py",
   "mimetype": "text/x-python",
   "name": "python",
   "nbconvert_exporter": "python",
   "pygments_lexer": "ipython3",
   "version": "3.8.10"
  }
 },
 "nbformat": 4,
 "nbformat_minor": 5
}
